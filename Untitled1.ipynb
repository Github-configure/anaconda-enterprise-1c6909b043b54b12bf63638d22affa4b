{
 "cells": [
  {
   "cell_type": "code",
   "execution_count": 2,
   "id": "hourly-portugal",
   "metadata": {},
   "outputs": [
    {
     "data": {
      "text/plain": [
       "42435"
      ]
     },
     "execution_count": 2,
     "metadata": {},
     "output_type": "execute_result"
    }
   ],
   "source": [
    "123*345"
   ]
  },
  {
   "cell_type": "code",
   "execution_count": 3,
   "id": "crucial-ordinary",
   "metadata": {},
   "outputs": [
    {
     "data": {
      "text/plain": [
       "48"
      ]
     },
     "execution_count": 3,
     "metadata": {},
     "output_type": "execute_result"
    }
   ],
   "source": [
    "8*6"
   ]
  },
  {
   "cell_type": "code",
   "execution_count": null,
   "id": "needed-carnival",
   "metadata": {},
   "outputs": [],
   "source": []
  }
 ],
 "metadata": {
  "kernelspec": {
   "display_name": "Python 3 [anaconda202011_py38]",
   "language": "python",
   "name": "anaconda-project-anaconda202011_py38-python3"
  },
  "language_info": {
   "codemirror_mode": {
    "name": "ipython",
    "version": 3
   },
   "file_extension": ".py",
   "mimetype": "text/x-python",
   "name": "python",
   "nbconvert_exporter": "python",
   "pygments_lexer": "ipython3",
   "version": "3.8.5"
  }
 },
 "nbformat": 4,
 "nbformat_minor": 5
}
